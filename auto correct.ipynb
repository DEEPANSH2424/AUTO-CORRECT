{
 "cells": [
  {
   "cell_type": "code",
   "execution_count": 1,
   "id": "93eaf63f",
   "metadata": {},
   "outputs": [],
   "source": [
    "import nltk\n",
    "from nltk.corpus import words\n",
    "from nltk.metrics import edit_distance"
   ]
  },
  {
   "cell_type": "code",
   "execution_count": 2,
   "id": "a94dd66b",
   "metadata": {},
   "outputs": [
    {
     "name": "stderr",
     "output_type": "stream",
     "text": [
      "[nltk_data] Downloading package words to\n",
      "[nltk_data]     C:\\Users\\gg\\AppData\\Roaming\\nltk_data...\n",
      "[nltk_data]   Package words is already up-to-date!\n",
      "[nltk_data] Downloading package punkt to\n",
      "[nltk_data]     C:\\Users\\gg\\AppData\\Roaming\\nltk_data...\n",
      "[nltk_data]   Package punkt is already up-to-date!\n",
      "[nltk_data] Downloading package stopwords to\n",
      "[nltk_data]     C:\\Users\\gg\\AppData\\Roaming\\nltk_data...\n",
      "[nltk_data]   Package stopwords is already up-to-date!\n"
     ]
    }
   ],
   "source": [
    "nltk.download('words')\n",
    "nltk.download('punkt')\n",
    "nltk.download('stopwords')\n",
    "english_words = set(words.words())"
   ]
  },
  {
   "cell_type": "code",
   "execution_count": 3,
   "id": "556df925",
   "metadata": {},
   "outputs": [],
   "source": [
    "def find_nearest_word(word, word_list):\n",
    "    min_distance = float('inf')\n",
    "    nearest_word = None\n",
    "    for w in word_list:\n",
    "        distance = edit_distance(word, w)\n",
    "        jaccard_similarity = nltk.jaccard_distance(set(word), set(w))\n",
    "        combined_score = distance + jaccard_similarity\n",
    "        if combined_score < min_distance:\n",
    "            min_distance = combined_score\n",
    "            nearest_word = w\n",
    "    return nearest_word"
   ]
  },
  {
   "cell_type": "code",
   "execution_count": 4,
   "id": "cb7fc056",
   "metadata": {},
   "outputs": [],
   "source": [
    "def auto_correct_sentence(sentence):\n",
    "    corrected_sentence = []\n",
    "    for word in nltk.word_tokenize(sentence):\n",
    "        if word.lower() not in english_words:\n",
    "            corrected_word = find_nearest_word(word.lower(), english_words)\n",
    "            corrected_sentence.append(corrected_word)\n",
    "        else:\n",
    "            corrected_sentence.append(word)\n",
    "    return \" \".join(corrected_sentence)"
   ]
  },
  {
   "cell_type": "code",
   "execution_count": 5,
   "id": "d9fb7cbf",
   "metadata": {},
   "outputs": [
    {
     "name": "stdout",
     "output_type": "stream",
     "text": [
      "Enter the sentence:i have made errurs while writthing\n",
      "Corrected Sentence is: i have made error while writhing\n"
     ]
    }
   ],
   "source": [
    "input_sentence = input(\"Enter the sentence:\")\n",
    "corrected_sentence = auto_correct_sentence(input_sentence)\n",
    "if(input_sentence == corrected_sentence):\n",
    "    print(f\"Great,Your sentence is already correct\")\n",
    "else:\n",
    "    print(f\"Corrected Sentence is: {corrected_sentence}\")"
   ]
  }
 ],
 "metadata": {
  "kernelspec": {
   "display_name": "Python 3 (ipykernel)",
   "language": "python",
   "name": "python3"
  },
  "language_info": {
   "codemirror_mode": {
    "name": "ipython",
    "version": 3
   },
   "file_extension": ".py",
   "mimetype": "text/x-python",
   "name": "python",
   "nbconvert_exporter": "python",
   "pygments_lexer": "ipython3",
   "version": "3.11.4"
  }
 },
 "nbformat": 4,
 "nbformat_minor": 5
}
